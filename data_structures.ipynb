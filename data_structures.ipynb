{
 "metadata": {
  "name": "",
  "signature": "sha256:9f2579610eb9d103623a653061ae2a8a9e5383f494074678f5a3f9d8dd213057"
 },
 "nbformat": 3,
 "nbformat_minor": 0,
 "worksheets": [
  {
   "cells": [
    {
     "cell_type": "code",
     "collapsed": false,
     "input": [
      "l1 = [0, 0]\n",
      "def find_dup(l):\n",
      "    n = len(l)\n",
      "    invalid = [i for i in l if i < 0 or i > n - 2]\n",
      "    if len(invalid) > 0:\n",
      "        raise Exception(\"invalid numbers: \" + str(invalid))\n",
      "    s1 = sum(l)\n",
      "    s2 = (n-2)*(n-1)/2\n",
      "    return s1 - s2\n",
      "print find_dup(l1)    "
     ],
     "language": "python",
     "metadata": {},
     "outputs": [
      {
       "output_type": "stream",
       "stream": "stdout",
       "text": [
        "0\n"
       ]
      }
     ],
     "prompt_number": 12
    },
    {
     "cell_type": "code",
     "collapsed": false,
     "input": [
      "l1 = [0, 1]\n",
      "def find_dup2(l):\n",
      "    n = len(l)\n",
      "    invalid = [i for i in l if i < 0 or i > n -1]\n",
      "    if len(invalid) > 0:\n",
      "        raise Exception(\"invalid: \" + str(invalid))\n",
      "    for i in range(n):\n",
      "        while i != l[i]:\n",
      "            j = l[i]\n",
      "            if l[i] == l[j]:\n",
      "                return l[i]\n",
      "            else:\n",
      "                l[i], l[j] = l[j], l[i]\n",
      "                print l\n",
      "    return None\n",
      "print find_dup2(l1)"
     ],
     "language": "python",
     "metadata": {},
     "outputs": [
      {
       "output_type": "stream",
       "stream": "stdout",
       "text": [
        "None\n"
       ]
      }
     ],
     "prompt_number": 9
    },
    {
     "cell_type": "heading",
     "level": 1,
     "metadata": {},
     "source": [
      "find number in a matrix with sorted rows and cols"
     ]
    },
    {
     "cell_type": "code",
     "collapsed": false,
     "input": [
      "import numpy as np\n",
      "m = np.array(\n",
      "    [[1, 2, 8, 9],\n",
      "     [2, 4, 9, 12],\n",
      "     [4, 7, 10, 13],\n",
      "     [6, 8, 11, 15]])\n",
      "\n",
      "def check(m, x, r, c):\n",
      "    if x == m[r][c]:\n",
      "        print \"found!\"\n",
      "        print r, c\n",
      "        return True\n",
      "    else:\n",
      "        return False\n",
      "def find_diag(m, x, r1, c1, r2, c2):\n",
      "    print r1, c1, r2, c2\n",
      "    if x < m[r1][c1] or x > m[r2][c2]:\n",
      "        return False\n",
      "    if check(m, x, r1, c1): \n",
      "        return True\n",
      "    if check(m, x, r2, c2):\n",
      "        return True\n",
      "    tr1, tc1, tr2, tc2 = r1, c1, r2, c2\n",
      "    m_r, m_c = (tr1+tr2)/2, (tc1+tc2)/2\n",
      "    while (m_r,m_c)!=(tr1,tc1) and (m_r,m_c)!=(tr2,tc2):\n",
      "        if check(m, x, m_r, m_c):\n",
      "            return True\n",
      "        if x < m[m_r][m_c]:\n",
      "            tr2, tc2 = m_r, m_c\n",
      "        else:\n",
      "            tr1, tc1 = m_r, m_c\n",
      "        m_r, m_c = (tr1+tr2)/2, (tc1+tc2)/2\n",
      "    if m_r < m.shape[0]-1 and find_diag(m, x, m_r+1, c1, r2, m_c):\n",
      "        return True\n",
      "    if m_c < m.shape[1]-1 and find_diag(m, x, r1, m_c+1, m_r, c2):\n",
      "        return True\n",
      "    return False\n",
      "\n",
      "print find_diag(m, 3, 0, 0, m.shape[0]-1, m.shape[1]-1)\n",
      "        \n",
      "        \n",
      "        "
     ],
     "language": "python",
     "metadata": {},
     "outputs": [
      {
       "output_type": "stream",
       "stream": "stdout",
       "text": [
        "0 0 3 3\n",
        "1 0 3 0\n",
        "2 0 3 0\n",
        "1 1 1 0\n",
        "0 1 0 3\n",
        "1 1 0 1\n",
        "0 2 0 3\n",
        "False\n"
       ]
      }
     ],
     "prompt_number": 15
    },
    {
     "cell_type": "code",
     "collapsed": false,
     "input": [
      "import numpy as np\n",
      "m = np.array(\n",
      "    [[1, 2, 8, 9],\n",
      "     [2, 4, 9, 12],\n",
      "     [4, 7, 10, 13],\n",
      "     [6, 8, 11, 15]])\n",
      "\n",
      "def find_bottom_left(m, x):\n",
      "    r = m.shape[0]-1\n",
      "    c = 0\n",
      "    while c < m.shape[1] and r > -1: \n",
      "        if check(m, x, r, c):\n",
      "            return True\n",
      "        if m[r][c] < x:\n",
      "            c += 1\n",
      "        else:\n",
      "            r -= 1\n",
      "    return False\n",
      "print find_bottom_left(m, 10)\n"
     ],
     "language": "python",
     "metadata": {},
     "outputs": [
      {
       "output_type": "stream",
       "stream": "stdout",
       "text": [
        "found!\n",
        "2 2\n",
        "True\n"
       ]
      }
     ],
     "prompt_number": 24
    },
    {
     "cell_type": "code",
     "collapsed": false,
     "input": [
      "a = [3, 7, 15, 24, 100, 150, 200, 300]\n",
      "def build_tree(a):\n",
      "    if len(a) == 0:\n",
      "        return None\n",
      "    root = {'me': a[len(a)/2]}\n",
      "    root['left'] = build_tree(a[0:len(a)/2])\n",
      "    root['right'] = build_tree(a[len(a)/2 + 1: len(a)])\n",
      "    \n",
      "    return root\n",
      "\n",
      "print build_tree(a)"
     ],
     "language": "python",
     "metadata": {},
     "outputs": [
      {
       "output_type": "stream",
       "stream": "stdout",
       "text": [
        "{'me': 100, 'right': {'me': 200, 'right': {'me': 300, 'right': None, 'left': None}, 'left': {'me': 150, 'right': None, 'left': None}}, 'left': {'me': 15, 'right': {'me': 24, 'right': None, 'left': None}, 'left': {'me': 7, 'right': None, 'left': {'me': 3, 'right': None, 'left': None}}}}\n"
       ]
      }
     ],
     "prompt_number": 1
    },
    {
     "cell_type": "code",
     "collapsed": false,
     "input": [],
     "language": "python",
     "metadata": {},
     "outputs": []
    }
   ],
   "metadata": {}
  }
 ]
}