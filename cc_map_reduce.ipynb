{
 "metadata": {
  "name": "",
  "signature": "sha256:1e8a60f62fa95c7f9ed8a7e6e3fb1e0bbc112e48b215dde6c5a1dc03cfca4958"
 },
 "nbformat": 3,
 "nbformat_minor": 0,
 "worksheets": [
  {
   "cells": [
    {
     "cell_type": "code",
     "collapsed": false,
     "input": [
      "g = [(x, x+1) for x in range(1, 7)]\n",
      "g.append((99, 100))\n",
      "print g\n",
      "\n",
      "from collections import defaultdict\n",
      "\n",
      "neighbors = defaultdict(set)\n",
      "for a, b in g:\n",
      "    neighbors[a] |= set([b])\n",
      "    neighbors[b] |= set([a])\n",
      "\n",
      "print neighbors"
     ],
     "language": "python",
     "metadata": {},
     "outputs": [
      {
       "output_type": "stream",
       "stream": "stdout",
       "text": [
        "[(1, 2), (2, 3), (3, 4), (4, 5), (5, 6), (6, 7), (99, 100)]\n",
        "defaultdict(<type 'set'>, {1: set([2]), 2: set([1, 3]), 3: set([2, 4]), 4: set([3, 5]), 5: set([4, 6]), 6: set([5, 7]), 7: set([6]), 99: set([100]), 100: set([99])})\n"
       ]
      }
     ],
     "prompt_number": 130
    },
    {
     "cell_type": "heading",
     "level": 1,
     "metadata": {},
     "source": [
      "hash-min = naive approach, emit only min cluster id"
     ]
    },
    {
     "cell_type": "code",
     "collapsed": false,
     "input": [
      "v2cluster = {k: k for k in neighbors.keys()}\n",
      "\n",
      "alive = True\n",
      "i = 0\n",
      "while alive:\n",
      "    i += 1\n",
      "    print \"r_out\", v2cluster\n",
      "    m_out = defaultdict(set)\n",
      "    for v, c in v2cluster.iteritems():\n",
      "        m_out[v]|=set([c])\n",
      "        for n in neighbors[v]:\n",
      "            m_out[n]|=set([c])            \n",
      "    print \"m_out\", m_out\n",
      "    r_out = {}\n",
      "    alive = False\n",
      "    for v, c in m_out.iteritems():\n",
      "        if len(c) > 1:\n",
      "            alive = True\n",
      "        r_out[v] = min(c)\n",
      "    v2cluster = r_out\n",
      "\n",
      "print i"
     ],
     "language": "python",
     "metadata": {},
     "outputs": [
      {
       "output_type": "stream",
       "stream": "stdout",
       "text": [
        "r_out {1: 1, 2: 2, 3: 3, 4: 4, 5: 5, 6: 6, 7: 7, 99: 99, 100: 100}\n",
        "m_out defaultdict(<type 'set'>, {1: set([1, 2]), 2: set([1, 2, 3]), 3: set([2, 3, 4]), 4: set([3, 4, 5]), 5: set([4, 5, 6]), 6: set([5, 6, 7]), 7: set([6, 7]), 99: set([99, 100]), 100: set([99, 100])})\n",
        "r_out {1: 1, 2: 1, 3: 2, 4: 3, 5: 4, 6: 5, 7: 6, 99: 99, 100: 99}\n",
        "m_out defaultdict(<type 'set'>, {1: set([1]), 2: set([1, 2]), 3: set([1, 2, 3]), 4: set([2, 3, 4]), 5: set([3, 4, 5]), 6: set([4, 5, 6]), 7: set([5, 6]), 99: set([99]), 100: set([99])})\n",
        "r_out {1: 1, 2: 1, 3: 1, 4: 2, 5: 3, 6: 4, 7: 5, 99: 99, 100: 99}\n",
        "m_out defaultdict(<type 'set'>, {1: set([1]), 2: set([1]), 3: set([1, 2]), 4: set([1, 2, 3]), 5: set([2, 3, 4]), 6: set([3, 4, 5]), 7: set([4, 5]), 99: set([99]), 100: set([99])})\n",
        "r_out {1: 1, 2: 1, 3: 1, 4: 1, 5: 2, 6: 3, 7: 4, 99: 99, 100: 99}\n",
        "m_out defaultdict(<type 'set'>, {1: set([1]), 2: set([1]), 3: set([1]), 4: set([1, 2]), 5: set([1, 2, 3]), 6: set([2, 3, 4]), 7: set([3, 4]), 99: set([99]), 100: set([99])})\n",
        "r_out {1: 1, 2: 1, 3: 1, 4: 1, 5: 1, 6: 2, 7: 3, 99: 99, 100: 99}\n",
        "m_out defaultdict(<type 'set'>, {1: set([1]), 2: set([1]), 3: set([1]), 4: set([1]), 5: set([1, 2]), 6: set([1, 2, 3]), 7: set([2, 3]), 99: set([99]), 100: set([99])})\n",
        "r_out {1: 1, 2: 1, 3: 1, 4: 1, 5: 1, 6: 1, 7: 2, 99: 99, 100: 99}\n",
        "m_out defaultdict(<type 'set'>, {1: set([1]), 2: set([1]), 3: set([1]), 4: set([1]), 5: set([1]), 6: set([1, 2]), 7: set([1, 2]), 99: set([99]), 100: set([99])})\n",
        "r_out {1: 1, 2: 1, 3: 1, 4: 1, 5: 1, 6: 1, 7: 1, 99: 99, 100: 99}\n",
        "m_out defaultdict(<type 'set'>, {1: set([1]), 2: set([1]), 3: set([1]), 4: set([1]), 5: set([1]), 6: set([1]), 7: set([1]), 99: set([99]), 100: set([99])})\n",
        "7\n"
       ]
      }
     ],
     "prompt_number": 135
    },
    {
     "cell_type": "heading",
     "level": 1,
     "metadata": {},
     "source": [
      "hash-to-all = emit the entire cluster"
     ]
    },
    {
     "cell_type": "code",
     "collapsed": false,
     "input": [
      "v2cluster = {k: v|set([k]) for k, v in neighbors.iteritems()}\n",
      "\n",
      "alive = True\n",
      "i = 0\n",
      "while alive and i < 30:\n",
      "    i += 1\n",
      "    print \"r_out\", v2cluster\n",
      "    m_out = defaultdict(list)\n",
      "    for v, c in v2cluster.iteritems():\n",
      "        for n in c:\n",
      "            m_out[n].append(c)\n",
      "    print \"m_out\", m_out\n",
      "    r_out = defaultdict(set)\n",
      "    alive = False\n",
      "    for v, c in m_out.iteritems():\n",
      "        for cc in c:\n",
      "            if len(r_out[v] | cc) > max(len(r_out[v]), len(cc)):\n",
      "                alive = True\n",
      "            r_out[v] |= cc\n",
      "    v2cluster = r_out\n",
      "\n",
      "print i"
     ],
     "language": "python",
     "metadata": {},
     "outputs": [
      {
       "output_type": "stream",
       "stream": "stdout",
       "text": [
        "r_out {1: set([1, 2]), 2: set([1, 2, 3]), 3: set([2, 3, 4]), 4: set([3, 4, 5]), 5: set([4, 5, 6]), 6: set([5, 6, 7]), 7: set([6, 7]), 99: set([99, 100]), 100: set([99, 100])}\n",
        "m_out defaultdict(<type 'list'>, {1: [set([1, 2]), set([1, 2, 3])], 2: [set([1, 2]), set([1, 2, 3]), set([2, 3, 4])], 3: [set([1, 2, 3]), set([2, 3, 4]), set([3, 4, 5])], 4: [set([2, 3, 4]), set([3, 4, 5]), set([4, 5, 6])], 5: [set([3, 4, 5]), set([4, 5, 6]), set([5, 6, 7])], 6: [set([4, 5, 6]), set([5, 6, 7]), set([6, 7])], 7: [set([5, 6, 7]), set([6, 7])], 99: [set([99, 100]), set([99, 100])], 100: [set([99, 100]), set([99, 100])]})\n",
        "r_out defaultdict(<type 'set'>, {1: set([1, 2, 3]), 2: set([1, 2, 3, 4]), 3: set([1, 2, 3, 4, 5]), 4: set([2, 3, 4, 5, 6]), 5: set([3, 4, 5, 6, 7]), 6: set([4, 5, 6, 7]), 7: set([5, 6, 7]), 99: set([99, 100]), 100: set([99, 100])})\n",
        "m_out defaultdict(<type 'list'>, {1: [set([1, 2, 3]), set([1, 2, 3, 4]), set([1, 2, 3, 4, 5])], 2: [set([1, 2, 3]), set([1, 2, 3, 4]), set([1, 2, 3, 4, 5]), set([2, 3, 4, 5, 6])], 3: [set([1, 2, 3]), set([1, 2, 3, 4]), set([1, 2, 3, 4, 5]), set([2, 3, 4, 5, 6]), set([3, 4, 5, 6, 7])], 4: [set([1, 2, 3, 4]), set([1, 2, 3, 4, 5]), set([2, 3, 4, 5, 6]), set([3, 4, 5, 6, 7]), set([4, 5, 6, 7])], 5: [set([1, 2, 3, 4, 5]), set([2, 3, 4, 5, 6]), set([3, 4, 5, 6, 7]), set([4, 5, 6, 7]), set([5, 6, 7])], 6: [set([2, 3, 4, 5, 6]), set([3, 4, 5, 6, 7]), set([4, 5, 6, 7]), set([5, 6, 7])], 7: [set([3, 4, 5, 6, 7]), set([4, 5, 6, 7]), set([5, 6, 7])], 99: [set([99, 100]), set([99, 100])], 100: [set([99, 100]), set([99, 100])]})\n",
        "r_out defaultdict(<type 'set'>, {1: set([1, 2, 3, 4, 5]), 2: set([1, 2, 3, 4, 5, 6]), 3: set([1, 2, 3, 4, 5, 6, 7]), 4: set([1, 2, 3, 4, 5, 6, 7]), 5: set([1, 2, 3, 4, 5, 6, 7]), 6: set([2, 3, 4, 5, 6, 7]), 7: set([3, 4, 5, 6, 7]), 99: set([99, 100]), 100: set([99, 100])})\n",
        "m_out defaultdict(<type 'list'>, {1: [set([1, 2, 3, 4, 5]), set([1, 2, 3, 4, 5, 6]), set([1, 2, 3, 4, 5, 6, 7]), set([1, 2, 3, 4, 5, 6, 7]), set([1, 2, 3, 4, 5, 6, 7])], 2: [set([1, 2, 3, 4, 5]), set([1, 2, 3, 4, 5, 6]), set([1, 2, 3, 4, 5, 6, 7]), set([1, 2, 3, 4, 5, 6, 7]), set([1, 2, 3, 4, 5, 6, 7]), set([2, 3, 4, 5, 6, 7])], 3: [set([1, 2, 3, 4, 5]), set([1, 2, 3, 4, 5, 6]), set([1, 2, 3, 4, 5, 6, 7]), set([1, 2, 3, 4, 5, 6, 7]), set([1, 2, 3, 4, 5, 6, 7]), set([2, 3, 4, 5, 6, 7]), set([3, 4, 5, 6, 7])], 4: [set([1, 2, 3, 4, 5]), set([1, 2, 3, 4, 5, 6]), set([1, 2, 3, 4, 5, 6, 7]), set([1, 2, 3, 4, 5, 6, 7]), set([1, 2, 3, 4, 5, 6, 7]), set([2, 3, 4, 5, 6, 7]), set([3, 4, 5, 6, 7])], 5: [set([1, 2, 3, 4, 5]), set([1, 2, 3, 4, 5, 6]), set([1, 2, 3, 4, 5, 6, 7]), set([1, 2, 3, 4, 5, 6, 7]), set([1, 2, 3, 4, 5, 6, 7]), set([2, 3, 4, 5, 6, 7]), set([3, 4, 5, 6, 7])], 6: [set([1, 2, 3, 4, 5, 6]), set([1, 2, 3, 4, 5, 6, 7]), set([1, 2, 3, 4, 5, 6, 7]), set([1, 2, 3, 4, 5, 6, 7]), set([2, 3, 4, 5, 6, 7]), set([3, 4, 5, 6, 7])], 7: [set([1, 2, 3, 4, 5, 6, 7]), set([1, 2, 3, 4, 5, 6, 7]), set([1, 2, 3, 4, 5, 6, 7]), set([2, 3, 4, 5, 6, 7]), set([3, 4, 5, 6, 7])], 99: [set([99, 100]), set([99, 100])], 100: [set([99, 100]), set([99, 100])]})\n",
        "3\n"
       ]
      }
     ],
     "prompt_number": 121
    },
    {
     "cell_type": "heading",
     "level": 1,
     "metadata": {},
     "source": [
      "hash-to-min = emit min with entire cluster, all others with min "
     ]
    },
    {
     "cell_type": "code",
     "collapsed": false,
     "input": [
      "v2cluster = {k: v|set([k]) for k, v in neighbors.iteritems()}\n",
      "\n",
      "alive = True\n",
      "i = 0\n",
      "while alive and i < 30:\n",
      "    i += 1\n",
      "    m_out = defaultdict(list)\n",
      "    for v, c in v2cluster.iteritems():\n",
      "        mini = min(c)\n",
      "        m_out[mini].append(c)\n",
      "        for n in (c - set([mini])):\n",
      "            m_out[n].append(set([mini]))\n",
      "    print \"m_out: \" + str(m_out)\n",
      "    r_out = defaultdict(set)\n",
      "    alive = False\n",
      "    for v, c in m_out.iteritems():\n",
      "        for cc in c:\n",
      "            if len(r_out[v] | cc) > max(len(r_out[v]), len(cc)):\n",
      "                alive = True\n",
      "            r_out[v] |= cc\n",
      "    v2cluster = r_out\n",
      "    print \"r_out: \" + str(v2cluster) \n",
      "\n",
      "print i"
     ],
     "language": "python",
     "metadata": {},
     "outputs": [
      {
       "output_type": "stream",
       "stream": "stdout",
       "text": [
        "m_out: defaultdict(<type 'list'>, {1: [set([1, 2]), set([1, 2, 3])], 2: [set([1]), set([1]), set([2, 3, 4])], 3: [set([1]), set([2]), set([3, 4, 5])], 4: [set([2]), set([3]), set([4, 5, 6])], 5: [set([3]), set([4]), set([5, 6, 7])], 6: [set([4]), set([5]), set([6, 7])], 7: [set([5]), set([6])], 99: [set([99, 100]), set([99, 100])], 100: [set([99]), set([99])]})\n",
        "r_out: defaultdict(<type 'set'>, {1: set([1, 2, 3]), 2: set([1, 2, 3, 4]), 3: set([1, 2, 3, 4, 5]), 4: set([2, 3, 4, 5, 6]), 5: set([3, 4, 5, 6, 7]), 6: set([4, 5, 6, 7]), 7: set([5, 6]), 99: set([99, 100]), 100: set([99])})\n",
        "m_out: defaultdict(<type 'list'>, {1: [set([1, 2, 3]), set([1, 2, 3, 4]), set([1, 2, 3, 4, 5])], 2: [set([1]), set([1]), set([1]), set([2, 3, 4, 5, 6])], 3: [set([1]), set([1]), set([1]), set([2]), set([3, 4, 5, 6, 7])], 4: [set([1]), set([1]), set([2]), set([3]), set([4, 5, 6, 7])], 5: [set([1]), set([2]), set([3]), set([4]), set([5, 6])], 6: [set([2]), set([3]), set([4]), set([5])], 7: [set([3]), set([4])], 99: [set([99, 100]), set([99])], 100: [set([99])]})\n",
        "r_out: defaultdict(<type 'set'>, {1: set([1, 2, 3, 4, 5]), 2: set([1, 2, 3, 4, 5, 6]), 3: set([1, 2, 3, 4, 5, 6, 7]), 4: set([1, 2, 3, 4, 5, 6, 7]), 5: set([1, 2, 3, 4, 5, 6]), 6: set([2, 3, 4, 5]), 7: set([3, 4]), 99: set([99, 100]), 100: set([99])})\n",
        "m_out: defaultdict(<type 'list'>, {1: [set([1, 2, 3, 4, 5]), set([1, 2, 3, 4, 5, 6]), set([1, 2, 3, 4, 5, 6, 7]), set([1, 2, 3, 4, 5, 6, 7]), set([1, 2, 3, 4, 5, 6])], 2: [set([1]), set([1]), set([1]), set([1]), set([1]), set([2, 3, 4, 5])], 3: [set([1]), set([1]), set([1]), set([1]), set([1]), set([2]), set([3, 4])], 4: [set([1]), set([1]), set([1]), set([1]), set([1]), set([2]), set([3])], 5: [set([1]), set([1]), set([1]), set([1]), set([1]), set([2])], 6: [set([1]), set([1]), set([1]), set([1])], 7: [set([1]), set([1])], 99: [set([99, 100]), set([99])], 100: [set([99])]})\n",
        "r_out: defaultdict(<type 'set'>, {1: set([1, 2, 3, 4, 5, 6, 7]), 2: set([1, 2, 3, 4, 5]), 3: set([1, 2, 3, 4]), 4: set([1, 2, 3]), 5: set([1, 2]), 6: set([1]), 7: set([1]), 99: set([99, 100]), 100: set([99])})\n",
        "m_out: defaultdict(<type 'list'>, {1: [set([1, 2, 3, 4, 5, 6, 7]), set([1, 2, 3, 4, 5]), set([1, 2, 3, 4]), set([1, 2, 3]), set([1, 2]), set([1]), set([1])], 2: [set([1]), set([1]), set([1]), set([1]), set([1])], 3: [set([1]), set([1]), set([1]), set([1])], 4: [set([1]), set([1]), set([1])], 5: [set([1]), set([1])], 6: [set([1])], 7: [set([1])], 99: [set([99, 100]), set([99])], 100: [set([99])]})\n",
        "r_out: defaultdict(<type 'set'>, {1: set([1, 2, 3, 4, 5, 6, 7]), 2: set([1]), 3: set([1]), 4: set([1]), 5: set([1]), 6: set([1]), 7: set([1]), 99: set([99, 100]), 100: set([99])})\n",
        "4\n"
       ]
      }
     ],
     "prompt_number": 143
    },
    {
     "cell_type": "heading",
     "level": 1,
     "metadata": {},
     "source": [
      "hash-to-min with diameter cap"
     ]
    },
    {
     "cell_type": "code",
     "collapsed": false,
     "input": [
      "v2cluster = {k: v|set([k]) for k, v in neighbors.iteritems()}\n",
      "\n",
      "alive = True\n",
      "i = 0\n",
      "while alive and i < 30:\n",
      "    i += 1\n",
      "    m_out = defaultdict(list)\n",
      "    for v, c in v2cluster.iteritems():\n",
      "        cs = sorted(c)\n",
      "        while len(cs) > 0:\n",
      "            chunk = set(cs[:4])\n",
      "            mini = min(chunk)\n",
      "            m_out[mini].append(chunk)\n",
      "            for n in (chunk - set([mini])):\n",
      "                m_out[n].append(set([mini]))\n",
      "            cs = cs [4:]\n",
      "    print \"m_out: \" + str(m_out)\n",
      "    r_out = defaultdict(set)\n",
      "    alive = False\n",
      "    for v, c in m_out.iteritems():\n",
      "        for cc in c:\n",
      "            if len(r_out[v] | cc) > max(len(r_out[v]), len(cc)):\n",
      "                alive = True\n",
      "            r_out[v] |= cc\n",
      "    v2cluster = r_out\n",
      "    print \"r_out: \" + str(v2cluster) \n",
      "\n",
      "print i"
     ],
     "language": "python",
     "metadata": {},
     "outputs": [
      {
       "output_type": "stream",
       "stream": "stdout",
       "text": [
        "m_out: defaultdict(<type 'list'>, {1: [set([1, 2]), set([1, 2, 3])], 2: [set([1]), set([1]), set([2, 3, 4])], 3: [set([1]), set([2]), set([3, 4, 5])], 4: [set([2]), set([3]), set([4, 5, 6])], 5: [set([3]), set([4]), set([5, 6, 7])], 6: [set([4]), set([5]), set([6, 7])], 7: [set([5]), set([6])], 99: [set([99, 100]), set([99, 100])], 100: [set([99]), set([99])]})\n",
        "r_out: defaultdict(<type 'set'>, {1: set([1, 2, 3]), 2: set([1, 2, 3, 4]), 3: set([1, 2, 3, 4, 5]), 4: set([2, 3, 4, 5, 6]), 5: set([3, 4, 5, 6, 7]), 6: set([4, 5, 6, 7]), 7: set([5, 6]), 99: set([99, 100]), 100: set([99])})\n",
        "m_out: defaultdict(<type 'list'>, {1: [set([1, 2, 3]), set([1, 2, 3, 4]), set([1, 2, 3, 4])], 2: [set([1]), set([1]), set([1]), set([2, 3, 4, 5])], 3: [set([1]), set([1]), set([1]), set([2]), set([3, 4, 5, 6])], 4: [set([1]), set([1]), set([2]), set([3]), set([4, 5, 6, 7])], 5: [set([5]), set([2]), set([3]), set([4]), set([5, 6])], 6: [set([6]), set([3]), set([4]), set([5])], 7: [set([7]), set([4])], 99: [set([99, 100]), set([99])], 100: [set([99])]})\n",
        "r_out: defaultdict(<type 'set'>, {1: set([1, 2, 3, 4]), 2: set([1, 2, 3, 4, 5]), 3: set([1, 2, 3, 4, 5, 6]), 4: set([1, 2, 3, 4, 5, 6, 7]), 5: set([2, 3, 4, 5, 6]), 6: set([3, 4, 5, 6]), 7: set([4, 7]), 99: set([99, 100]), 100: set([99])})\n",
        "m_out: defaultdict(<type 'list'>, {1: [set([1, 2, 3, 4]), set([1, 2, 3, 4]), set([1, 2, 3, 4]), set([1, 2, 3, 4])], 2: [set([1]), set([1]), set([1]), set([1]), set([2, 3, 4, 5])], 3: [set([1]), set([1]), set([1]), set([1]), set([2]), set([3, 4, 5, 6])], 4: [set([1]), set([1]), set([1]), set([1]), set([2]), set([3]), set([4, 7])], 5: [set([5]), set([5, 6]), set([5, 6, 7]), set([2]), set([3])], 6: [set([5]), set([5]), set([6]), set([3])], 7: [set([5]), set([4])], 99: [set([99, 100]), set([99])], 100: [set([99])]})\n",
        "r_out: defaultdict(<type 'set'>, {1: set([1, 2, 3, 4]), 2: set([1, 2, 3, 4, 5]), 3: set([1, 2, 3, 4, 5, 6]), 4: set([1, 2, 3, 4, 7]), 5: set([2, 3, 5, 6, 7]), 6: set([3, 5, 6]), 7: set([4, 5]), 99: set([99, 100]), 100: set([99])})\n",
        "m_out: defaultdict(<type 'list'>, {1: [set([1, 2, 3, 4]), set([1, 2, 3, 4]), set([1, 2, 3, 4]), set([1, 2, 3, 4])], 2: [set([1]), set([1]), set([1]), set([1]), set([2, 3, 5, 6])], 3: [set([1]), set([1]), set([1]), set([1]), set([2]), set([3, 5, 6])], 4: [set([1]), set([1]), set([1]), set([1]), set([4, 5])], 5: [set([5]), set([5, 6]), set([2]), set([3]), set([4])], 6: [set([5]), set([2]), set([3])], 7: [set([7]), set([7])], 99: [set([99, 100]), set([99])], 100: [set([99])]})\n",
        "r_out: defaultdict(<type 'set'>, {1: set([1, 2, 3, 4]), 2: set([1, 2, 3, 5, 6]), 3: set([1, 2, 3, 5, 6]), 4: set([1, 4, 5]), 5: set([2, 3, 4, 5, 6]), 6: set([2, 3, 5]), 7: set([7]), 99: set([99, 100]), 100: set([99])})\n",
        "m_out: defaultdict(<type 'list'>, {1: [set([1, 2, 3, 4]), set([1, 2, 3, 5]), set([1, 2, 3, 5]), set([1, 4, 5])], 2: [set([1]), set([1]), set([1]), set([2, 3, 4, 5]), set([2, 3, 5])], 3: [set([1]), set([1]), set([1]), set([2]), set([2])], 4: [set([1]), set([1]), set([2])], 5: [set([1]), set([1]), set([1]), set([2]), set([2])], 6: [set([6]), set([6]), set([6])], 7: [set([7])], 99: [set([99, 100]), set([99])], 100: [set([99])]})\n",
        "r_out: defaultdict(<type 'set'>, {1: set([1, 2, 3, 4, 5]), 2: set([1, 2, 3, 4, 5]), 3: set([1, 2]), 4: set([1, 2]), 5: set([1, 2]), 6: set([6]), 7: set([7]), 99: set([99, 100]), 100: set([99])})\n",
        "m_out: defaultdict(<type 'list'>, {1: [set([1, 2, 3, 4]), set([1, 2, 3, 4]), set([1, 2]), set([1, 2]), set([1, 2])], 2: [set([1]), set([1]), set([1]), set([1]), set([1])], 3: [set([1]), set([1])], 4: [set([1]), set([1])], 5: [set([5]), set([5])], 6: [set([6])], 7: [set([7])], 99: [set([99, 100]), set([99])], 100: [set([99])]})\n",
        "r_out: defaultdict(<type 'set'>, {1: set([1, 2, 3, 4]), 2: set([1]), 3: set([1]), 4: set([1]), 5: set([5]), 6: set([6]), 7: set([7]), 99: set([99, 100]), 100: set([99])})\n",
        "6\n"
       ]
      }
     ],
     "prompt_number": 148
    },
    {
     "cell_type": "code",
     "collapsed": false,
     "input": [],
     "language": "python",
     "metadata": {},
     "outputs": []
    }
   ],
   "metadata": {}
  }
 ]
}