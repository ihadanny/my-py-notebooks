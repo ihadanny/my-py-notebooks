{
 "metadata": {
  "name": "",
  "signature": "sha256:9735af7bb4cc41408e612ff9ec599c607f87fe6e22b28405d8ebbda6717da2f3"
 },
 "nbformat": 3,
 "nbformat_minor": 0,
 "worksheets": [
  {
   "cells": [
    {
     "cell_type": "code",
     "collapsed": false,
     "input": [
      "import random\n",
      "\n",
      "def heapify(l):\n",
      "    for i in reversed(xrange(1, len(l))):\n",
      "        bubble_down(l, i)\n",
      "\n",
      "def bubble_down(l, i):\n",
      "    n = len(l)\n",
      "    min_index = i\n",
      "    for j in [i*2, i*2 + 1]:\n",
      "        if j < n and l[min_index] > l[j]:\n",
      "            min_index = j\n",
      "    if min_index != i:\n",
      "        l[i], l[min_index] = l[min_index], l[i]\n",
      "        bubble_down(l, min_index)\n",
      "        \n"
     ],
     "language": "python",
     "metadata": {},
     "outputs": [],
     "prompt_number": 27
    },
    {
     "cell_type": "code",
     "collapsed": false,
     "input": [
      "l = [None] + random.sample(xrange(100), 10)\n",
      "print l\n",
      "heapify(l)\n",
      "print l"
     ],
     "language": "python",
     "metadata": {},
     "outputs": [
      {
       "output_type": "stream",
       "stream": "stdout",
       "text": [
        "[None, 80, 65, 93, 63, 87, 32, 25, 33, 74, 9]\n",
        "[None, 9, 33, 25, 63, 65, 32, 93, 80, 74, 87]\n"
       ]
      }
     ],
     "prompt_number": 39
    },
    {
     "cell_type": "code",
     "collapsed": false,
     "input": [
      "def is_below_kth_smallest(l, k, x):\n",
      "    b = can_beat(l, k, x, 1)\n",
      "    print b\n",
      "    return b == 0\n",
      "\n",
      "def can_beat(l, left_to_find, x, i):\n",
      "    if i > len(l) or x < l[i] or left_to_find <= 0:\n",
      "        return left_to_find\n",
      "    left_to_find = can_beat(l, left_to_find - 1, x, i*2)\n",
      "    left_to_find = can_beat(l, left_to_find, x, i*2+1)\n",
      "    return left_to_find\n",
      "\n",
      "print is_below_kth_smallest(l, 3, 27)\n",
      "    \n",
      "    "
     ],
     "language": "python",
     "metadata": {},
     "outputs": [
      {
       "output_type": "stream",
       "stream": "stdout",
       "text": [
        "1\n",
        "False\n"
       ]
      }
     ],
     "prompt_number": 72
    },
    {
     "cell_type": "code",
     "collapsed": false,
     "input": [
      "G = {\"a\": [\"b\", \"c\"], \"b\" : [\"d\"], \"c\": [\"e\"], \"d\": [\"a\", \"f\"], \"e\": [\"a\", \"g\"], \n",
      "     \"f\": [\"h\", \"i\"], \"g\": [\"j\"], \"h\": [\"i\"], \"i\": [], \"j\": [\"e\", \"k\"], \"k\": [\"g\"]}\n",
      "\n",
      "id, highest = {}, {}\n",
      "cnt = 1\n",
      "def find_bridges(v):\n",
      "    global cnt\n",
      "    id[v] = cnt\n",
      "    cnt += 1\n",
      "    highest[v] = id[v]\n",
      "    for u in G[v]:\n",
      "        if u not in id:\n",
      "            find_bridges(u)\n",
      "            if highest[u] >= id[u]:\n",
      "                print v, u, \"is a bridge\"\n",
      "        highest[v] = min(highest[v], highest[u])\n",
      " \n",
      "find_bridges(\"a\")\n",
      "print id\n",
      "print highest    "
     ],
     "language": "python",
     "metadata": {},
     "outputs": [
      {
       "output_type": "stream",
       "stream": "stdout",
       "text": [
        "h i is a bridge\n",
        "f h is a bridge\n",
        "d f is a bridge\n",
        "{'a': 1, 'c': 7, 'b': 2, 'e': 8, 'd': 3, 'g': 9, 'f': 4, 'i': 6, 'h': 5, 'k': 11, 'j': 10}\n",
        "{'a': 1, 'c': 1, 'b': 1, 'e': 1, 'd': 1, 'g': 1, 'f': 4, 'i': 6, 'h': 5, 'k': 9, 'j': 1}\n"
       ]
      }
     ],
     "prompt_number": 90
    },
    {
     "cell_type": "code",
     "collapsed": false,
     "input": [],
     "language": "python",
     "metadata": {},
     "outputs": []
    }
   ],
   "metadata": {}
  }
 ]
}