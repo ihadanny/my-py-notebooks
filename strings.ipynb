{
 "metadata": {
  "name": "",
  "signature": "sha256:bfe97ede99b512fb6b7cf52e1bb26c583086ab84bd5dc98d651cce4b7792214e"
 },
 "nbformat": 3,
 "nbformat_minor": 0,
 "worksheets": [
  {
   "cells": [
    {
     "cell_type": "code",
     "collapsed": false,
     "input": [
      "def match_core(r, s):\n",
      "    if not r:\n",
      "        return not s\n",
      "    if len(r) >= 2 and r[1]=='*':\n",
      "        if eat_one(r[0], s) and match_core(r, s[1:]):\n",
      "            return True\n",
      "        return match_core(r[2:], s)\n",
      "    return eat_one(r[0], s) and match_core(r[1:], s[1:])\n",
      "\n",
      "def eat_one(c, s):\n",
      "    return len(s) > 0 and (c == '.' or c == s[0])\n",
      "\n",
      "def match (r, s):\n",
      "    print 'r:[', r, '] s:[', s, '] == ', match_core(r, s)\n",
      "\n",
      "print match ('aba', 'aba')\n",
      "print match ('aba', 'aca')\n",
      "print match ('a.a', 'aca')\n",
      "print match ('.*', 'aca')\n",
      "print match ('a.*', 'aca')\n",
      "print match ('b.*', 'aca')\n",
      "print match ('a.*a', 'aca')\n",
      "print match ('a.*a', 'aa')\n",
      "print match ('a*b', 'aab')\n",
      "print match ('aa*b', 'aab')\n",
      "print match ('aa*b', 'aab')\n",
      "print match ('aa*b', 'aaa')\n",
      "print match ('aa*b*a', 'aaa')\n",
      "print match ('aa*b*a', '')\n",
      "print match ('a*b*', '')\n",
      "print match ('a*b*', 'a')\n",
      "print match ('a*b*', 'abb')"
     ],
     "language": "python",
     "metadata": {},
     "outputs": [
      {
       "output_type": "stream",
       "stream": "stdout",
       "text": [
        "r:[ aba ] s:[ aba ] ==  True\n",
        "None\n",
        "r:[ aba ] s:[ aca ] ==  False\n",
        "None\n",
        "r:[ a.a ] s:[ aca ] ==  True\n",
        "None\n",
        "r:[ .* ] s:[ aca ] ==  True\n",
        "None\n",
        "r:[ a.* ] s:[ aca ] ==  True\n",
        "None\n",
        "r:[ b.* ] s:[ aca ] ==  False\n",
        "None\n",
        "r:[ a.*a ] s:[ aca ] ==  True\n",
        "None\n",
        "r:[ a.*a ] s:[ aa ] ==  True\n",
        "None\n",
        "r:[ a*b ] s:[ aab ] ==  True\n",
        "None\n",
        "r:[ aa*b ] s:[ aab ] ==  True\n",
        "None\n",
        "r:[ aa*b ] s:[ aab ] ==  True\n",
        "None\n",
        "r:[ aa*b ] s:[ aaa ] ==  False\n",
        "None\n",
        "r:[ aa*b*a ] s:[ aaa ] ==  True\n",
        "None\n",
        "r:[ aa*b*a ] s:[  ] ==  False\n",
        "None\n",
        "r:[ a*b* ] s:[  ] ==  True\n",
        "None\n",
        "r:[ a*b* ] s:[ a ] ==  True\n",
        "None\n",
        "r:[ a*b* ] s:[ abb ] ==  True\n",
        "None\n"
       ]
      }
     ],
     "prompt_number": 23
    },
    {
     "cell_type": "code",
     "collapsed": false,
     "input": [
      "def merge(a, b):\n",
      "    if len(a) == 0:\n",
      "        return b\n",
      "    if len(b) == 0:\n",
      "        return a\n",
      "    if a[0] < b[0]:\n",
      "        return [a[0]] + merge(a[1:], b)\n",
      "    else:\n",
      "        return [b[0]] + merge(a, b[1:])\n",
      "    \n",
      "print merge([1, 3, 5, 7], [2, 4, 6, 8])\n",
      "print merge([1, 3, 5, 7, 7, 10], [2, 4, 6, 7, 8, 100])\n",
      "print merge([], [])\n",
      "print merge([], [2, 4, 6, 8])"
     ],
     "language": "python",
     "metadata": {},
     "outputs": [
      {
       "output_type": "stream",
       "stream": "stdout",
       "text": [
        "[1, 2, 3, 4, 5, 6, 7, 8]\n",
        "[1, 2, 3, 4, 5, 6, 7, 7, 7, 8, 10, 100]\n",
        "[]\n",
        "[2, 4, 6, 8]\n"
       ]
      }
     ],
     "prompt_number": 30
    },
    {
     "cell_type": "code",
     "collapsed": false,
     "input": [],
     "language": "python",
     "metadata": {},
     "outputs": []
    }
   ],
   "metadata": {}
  }
 ]
}