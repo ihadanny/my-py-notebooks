{
 "metadata": {
  "name": "",
  "signature": "sha256:1fa8696e548cec1f1cdc35e79c04e6ea014ba8932fad88d2bca0899d747fce6f"
 },
 "nbformat": 3,
 "nbformat_minor": 0,
 "worksheets": [
  {
   "cells": [
    {
     "cell_type": "code",
     "collapsed": false,
     "input": [
      "import numpy as np\n",
      "import sys\n",
      "\n",
      "def build_st_recurse(a, s, e, st, sti):\n",
      "    if e == s:\n",
      "        st[sti] = s\n",
      "    else:\n",
      "        m = s + (e-s)/2\n",
      "        l = build_st_recurse(a, s, m, st, sti*2)\n",
      "        r = build_st_recurse(a, m+1, e, st, sti*2+1)\n",
      "        if hist[l] < hist[r]: \n",
      "            st[sti] = l\n",
      "        else: st[sti] = r\n",
      "    return st[sti]\n",
      "\n",
      "def build_st(a):\n",
      "    st = [None] * len(a) * 3 \n",
      "    build_st_recurse(a, 0, len(a)-1, st, 1)\n",
      "    return st\n",
      "\n",
      "def min_val(a, x, y):\n",
      "    if x == -1:\n",
      "        return y\n",
      "    if y == -1:\n",
      "        return x\n",
      "    if a[x] < a[y]:\n",
      "        return x\n",
      "    else: return y\n",
      "    \n",
      "def get_min_recurse(st, a, q_s, q_e, s, e, sti):\n",
      "    if q_e < s or q_s > e:\n",
      "        return -1\n",
      "    if q_s <= s and e <= q_e:\n",
      "        return st[sti]\n",
      "    m = s + (e-s)/2\n",
      "    mm =min_val(a, get_min_recurse(st, a, q_s, q_e, s, m, sti*2),\n",
      "               get_min_recurse(st, a, q_s, q_e, m+1, e, sti*2+1))\n",
      "    return mm\n",
      "    \n",
      "def get_min(st, a, q_s, q_e):\n",
      "    return get_min_recurse(st, a, q_s, q_e, 0, len(a)-1, 1)\n",
      "\n",
      "def get_area(st, hist, s, e):\n",
      "    print s, e\n",
      "    if s == e:\n",
      "        print s, \"=\", hist[s]\n",
      "        return hist[s]\n",
      "    if s > e:\n",
      "        return sys.minval\n",
      "    mini = get_min(st, hist, s, e)\n",
      "    mini_rect = hist[mini] * (e-s+1)\n",
      "    print s, mini, e, \"=\", mini_rect\n",
      "    return max(mini_rect,\n",
      "               get_area(st, hist, s, mini-1),\n",
      "               get_area(st, hist, mini+1, e)\n",
      "               )\n",
      "\n",
      "hist = [6, 2, 5, 4, 5, 1, 6]\n",
      "st = build_st(hist)\n",
      "print st\n",
      "print get_min(st, hist, 0, 1)\n",
      "print get_area(st, hist, 0, len(hist)-1) "
     ],
     "language": "python",
     "metadata": {},
     "outputs": [
      {
       "output_type": "stream",
       "stream": "stdout",
       "text": [
        "[None, 5, 1, 5, 1, 3, 5, 6, 0, 1, 2, 3, 4, 5, None, None, None, None, None, None, None]\n",
        "1\n",
        "0 6\n",
        "0 5 6 = 7\n",
        "0 4\n",
        "0 1 4 = 10\n",
        "0 0\n",
        "0 = 6\n",
        "2 4\n",
        "2 3 4 = 12\n",
        "2 2\n",
        "2 = 5\n",
        "4 4\n",
        "4 = 5\n",
        "6 6\n",
        "6 = 6\n",
        "12\n"
       ]
      }
     ],
     "prompt_number": 57
    },
    {
     "cell_type": "code",
     "collapsed": false,
     "input": [],
     "language": "python",
     "metadata": {},
     "outputs": []
    }
   ],
   "metadata": {}
  }
 ]
}