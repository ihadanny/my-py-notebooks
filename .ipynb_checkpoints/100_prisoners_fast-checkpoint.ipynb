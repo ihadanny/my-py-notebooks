{
 "metadata": {
  "name": "",
  "signature": "sha256:b585eb75c715453b9febc24455a18bb532f2eaa669f4e381b3c1a4b0b62403df"
 },
 "nbformat": 3,
 "nbformat_minor": 0,
 "worksheets": [
  {
   "cells": [
    {
     "cell_type": "code",
     "collapsed": false,
     "input": [
      "from random import randint\n",
      "import numpy as np\n",
      "NUM_PRISONERS = 100\n",
      "l = []\n",
      "for i in xrange(1, 2):\n",
      "    big_controler, seen_by_big = {0:0}, set([0])\n",
      "    mini_controlers, seen_by_mini = {}, set([])\n",
      "    for i in xrange(0, 100, 10):\n",
      "        mini_controlers[i] = 0\n",
      "        seen_by_mini.add(i)\n",
      "    counter = day = 0\n",
      "    while counter < NUM_PRISONERS:\n",
      "        i += 1\n",
      "        if \n",
      "        v = randint(0,NUM_PRISONERS)\n",
      "        if v == CONTROLER and light_on:\n",
      "            counter += 1\n",
      "            light_on = False\n",
      "        if v not in s and not light_on:\n",
      "            light_on = True\n",
      "            s.add(v)\n",
      "    l.append(i)\n",
      "print np.mean(l), np.std(l)"
     ],
     "language": "python",
     "metadata": {},
     "outputs": [
      {
       "output_type": "stream",
       "stream": "stdout",
       "text": [
        "0\n",
        "10\n",
        "20\n",
        "30\n",
        "40\n",
        "50\n",
        "60\n",
        "70\n",
        "80\n",
        "90\n",
        "10162.0 0.0\n"
       ]
      }
     ],
     "prompt_number": 4
    },
    {
     "cell_type": "code",
     "collapsed": false,
     "input": [],
     "language": "python",
     "metadata": {},
     "outputs": [],
     "prompt_number": 13
    },
    {
     "cell_type": "code",
     "collapsed": false,
     "input": [],
     "language": "python",
     "metadata": {},
     "outputs": []
    }
   ],
   "metadata": {}
  }
 ]
}