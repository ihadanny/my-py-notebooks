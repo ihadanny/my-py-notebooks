{
 "metadata": {
  "name": "",
  "signature": "sha256:c5fa23f327456948d9a10d4c850a541ad0ac83d60d5b965637aac50c64e969ce"
 },
 "nbformat": 3,
 "nbformat_minor": 0,
 "worksheets": []
}