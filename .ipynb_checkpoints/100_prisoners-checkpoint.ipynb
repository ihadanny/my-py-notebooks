{
 "metadata": {
  "name": "",
  "signature": "sha256:454252b88af9da5888521da1a85fe6b8a998f3555dd6fad964b4c33c11308000"
 },
 "nbformat": 3,
 "nbformat_minor": 0,
 "worksheets": [
  {
   "cells": [
    {
     "cell_type": "code",
     "collapsed": false,
     "input": [
      "from random import randint\n",
      "import numpy as np\n",
      "NUM_PRISONERS, CONTROLER = 100, 0\n",
      "l = []\n",
      "for i in xrange(1, 100):\n",
      "    counter = i = 0\n",
      "    s = set([CONTROLER])\n",
      "    light_on = False\n",
      "    while counter < NUM_PRISONERS:\n",
      "        i += 1\n",
      "        v = randint(0,NUM_PRISONERS)\n",
      "        if v == CONTROLER and light_on:\n",
      "            counter += 1\n",
      "            light_on = False\n",
      "        if v not in s and not light_on:\n",
      "            light_on = True\n",
      "            s.add(v)\n",
      "    l.append(i)\n",
      "print np.mean(l), np.std(l)"
     ],
     "language": "python",
     "metadata": {},
     "outputs": [
      {
       "output_type": "stream",
       "stream": "stdout",
       "text": [
        "10568.1818182 1012.35260919\n"
       ]
      }
     ],
     "prompt_number": 18
    },
    {
     "cell_type": "code",
     "collapsed": false,
     "input": [],
     "language": "python",
     "metadata": {},
     "outputs": [],
     "prompt_number": 13
    },
    {
     "cell_type": "code",
     "collapsed": false,
     "input": [],
     "language": "python",
     "metadata": {},
     "outputs": []
    }
   ],
   "metadata": {}
  }
 ]
}