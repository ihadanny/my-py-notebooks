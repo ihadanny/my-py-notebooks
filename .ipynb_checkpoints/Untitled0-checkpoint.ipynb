{
 "metadata": {
  "name": "",
  "signature": "sha256:1ea2aed85a7113bf50003a1b40a773c5d52efa09f290922a518acbf15eab4271"
 },
 "nbformat": 3,
 "nbformat_minor": 0,
 "worksheets": [
  {
   "cells": [
    {
     "cell_type": "code",
     "collapsed": false,
     "input": [
      "a = [4, 10, 15, 24, 26]\n",
      "b = [0, 9, 12, 20]\n",
      "c = [5, 18, 22, 30]\n",
      "\n",
      "def add_name(l, name):\n",
      "    return [(x, name) for x in l]\n",
      "\n",
      "def merge(a, b):\n",
      "    if not a:\n",
      "        return b\n",
      "    if not b:\n",
      "        return a\n",
      "    if a[0] < b[0]:\n",
      "        return [a[0]] + merge(a[1:], b)\n",
      "    else:\n",
      "        return [b[0]] + merge(a, b[1:])\n",
      "        \n",
      "abc = merge(merge(add_name(a, \"a\"), add_name(b, \"b\")), add_name(c, \"c\"))\n",
      "print abc\n",
      "\n",
      "def find_best_len(abc):\n",
      "    best_start, best_end, best_len = 0, 0, 10000\n",
      "    start, end = 0, 0\n",
      "    while start < len(abc):\n",
      "        dis_vals = set([x[1] for x in abc[start:end+1]])\n",
      "        if len(dis_vals) == 3:\n",
      "            if abc[end][0] - abc[start][0] < best_len:\n",
      "                best_start, best_end = abc[start][0], abc[end][0]\n",
      "                best_len = best_end - best_start\n",
      "            if end <= start:\n",
      "                return (best_start, best_end, best_len)\n",
      "            else:\n",
      "                start += 1\n",
      "        else:\n",
      "            if end < len(abc) - 1:\n",
      "                end += 1\n",
      "            else:\n",
      "                start += 1\n",
      "    return (best_start, best_end, best_len)\n",
      "\n",
      "print find_best_len(abc)        "
     ],
     "language": "python",
     "metadata": {},
     "outputs": [
      {
       "output_type": "stream",
       "stream": "stdout",
       "text": [
        "[(0, 'b'), (4, 'a'), (5, 'c'), (9, 'b'), (10, 'a'), (12, 'b'), (15, 'a'), (18, 'c'), (20, 'b'), (22, 'c'), (24, 'a'), (26, 'a'), (30, 'c')]\n",
        "(20, 24, 4)\n"
       ]
      }
     ],
     "prompt_number": 20
    },
    {
     "cell_type": "code",
     "collapsed": false,
     "input": [
      "import operator, sys\n",
      "\n",
      "l = [17, 5, 40, 600, 3, 10, 54, 30, 100]\n",
      "l = [17, 10, 30, 56, 100]\n",
      "\n",
      "def play(l, alpha, beta, me):\n",
      "    if len(l) == 1:\n",
      "        if me:\n",
      "            return l[0]\n",
      "        else:\n",
      "            return 0\n",
      "    if me:\n",
      "        v = [-sys.maxint, -sys.maxint]\n",
      "        v[0] = l[0] + play (l[1:], alpha, beta, not me)\n",
      "        alpha = max(alpha, v[0])\n",
      "        if alpha < beta:\n",
      "            v[1] = l[-1] + play(l[0:-1], alpha, beta, not me)\n",
      "        best_i, best = max(enumerate(v), key=operator.itemgetter(1)) \n",
      "    else:\n",
      "        v = [sys.maxint, sys.maxint]\n",
      "        v[0] = 0 + play (l[1:], alpha, beta, not me)\n",
      "        beta = min(beta, v[0])\n",
      "        if alpha < beta:\n",
      "            v[1] = 0 + play(l[0:-1], alpha, beta, not me)\n",
      "        best_i, best = min(enumerate(v), key=operator.itemgetter(1))\n",
      "    print me, best_i, best, alpha, beta\n",
      "    return best\n",
      "\n",
      "print play(l, -sys.maxint, sys.maxint, True)"
     ],
     "language": "python",
     "metadata": {},
     "outputs": [
      {
       "output_type": "stream",
       "stream": "stdout",
       "text": [
        "False 1 56 -2147483647 100\n",
        "False 0 56 86 56\n",
        "True 1 156 86 2147483647\n",
        "False 1 30 -2147483647 56\n",
        "False 0 30 40 30\n",
        "True 1 86 40 156\n",
        "False 1 86 -2147483647 156\n",
        "False 0 56 103 56\n",
        "False 0 30 103 30\n",
        "True 1 86 103 2147483647\n",
        "False 0 86 103 86\n",
        "True 1 186 103 2147483647\n",
        "186\n"
       ]
      }
     ],
     "prompt_number": 34
    },
    {
     "cell_type": "code",
     "collapsed": false,
     "input": [],
     "language": "python",
     "metadata": {},
     "outputs": []
    }
   ],
   "metadata": {}
  }
 ]
}