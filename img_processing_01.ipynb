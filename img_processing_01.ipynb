{
 "metadata": {
  "name": "",
  "signature": "sha256:54281a612fbc19bbc675abef3918305ec789b399bdc7bb20410219ced7088e43"
 },
 "nbformat": 3,
 "nbformat_minor": 0,
 "worksheets": [
  {
   "cells": [
    {
     "cell_type": "code",
     "collapsed": false,
     "input": [
      "from PIL import Image\n",
      "\n",
      "import numpy\n",
      "\n",
      "im = Image.open(\"C:/Users/ihadanny/Documents/150110-173028.jpg\")\n",
      "\n",
      "im.show()\n",
      "\n",
      "pixels = list(im.getdata())\n",
      "\n",
      "width, height = im.size\n",
      "\n",
      "pixels_wow = [tuple([int(numpy.mean(x)) for x in zip(*(pixels[i - width -1: i-width +2] + pixels[i-1:i+2] + pixels[i + width - 1: i + width +2]))]) for i in xrange(width * height)]\n",
      "\n",
      "ima = Image.new(im.mode, im.size)\n",
      "\n",
      "ima.putdata(pixels_wow)\n",
      "\n",
      "ima.show()\n",
      "\n"
     ],
     "language": "python",
     "metadata": {},
     "outputs": [],
     "prompt_number": 1
    },
    {
     "cell_type": "code",
     "collapsed": false,
     "input": [
      "im.show()"
     ],
     "language": "python",
     "metadata": {},
     "outputs": [],
     "prompt_number": 6
    },
    {
     "cell_type": "code",
     "collapsed": false,
     "input": [],
     "language": "python",
     "metadata": {},
     "outputs": []
    }
   ],
   "metadata": {}
  }
 ]
}