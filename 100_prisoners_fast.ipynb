{
 "metadata": {
  "name": "",
  "signature": "sha256:3ff7c5feb3b58530480bba029d18d7bf3296949c73dfd6a90346616b8344f68b"
 },
 "nbformat": 3,
 "nbformat_minor": 0,
 "worksheets": [
  {
   "cells": [
    {
     "cell_type": "code",
     "collapsed": false,
     "input": [
      "from random import randint\n",
      "import numpy as np\n",
      "\n",
      "NUM_PRISONERS = 100\n",
      "NUM_PER_FAMILY = 10\n",
      "\n",
      "def one_day(v, controlers, seen, elig):\n",
      "    global light_on\n",
      "    if v in controlers and controlers[v] < NUM_PER_FAMILY and light_on:\n",
      "        controlers[v] += 1\n",
      "        light_on = False\n",
      "    elif elig(v):\n",
      "        light_on = True\n",
      "        seen.add(v)\n",
      "        \n",
      "def elig_in_mini_game(v):\n",
      "    global mini_controlers, light_oin\n",
      "    return v not in mini_controlers and light_on == False\n",
      "def elig_in_big_game(v):\n",
      "    return v not in big_controler and v in mini_controlers \\\n",
      "        and mini_controlers[v] == NUM_PER_FAMILY and \\\n",
      "        light_on == False\n",
      "\n",
      "l = []\n",
      "for i in xrange(1, 1000):\n",
      "    day, light_on = 0, False\n",
      "    big_controler, seen_by_big = {0:1}, set([0])\n",
      "    mini_controlers = dict.fromkeys(xrange(1, 100, NUM_PER_FAMILY), 1)\n",
      "    seen_by_mini = set(mini_controlers.keys())\n",
      "    while big_controler[0] < NUM_PER_FAMILY:\n",
      "        v = randint(0,NUM_PRISONERS)\n",
      "        day += 1\n",
      "        if day % NUM_PRISONERS == 0:\n",
      "            light_on = False\n",
      "        elif (day / NUM_PRISONERS) % 2 == 0:\n",
      "            one_day(v, mini_controlers, seen_by_mini, elig_in_mini_game)\n",
      "        else:\n",
      "            one_day(v, big_controler, seen_by_big, elig_in_big_game)\n",
      "    l.append(day)\n",
      "print np.mean(l), np.std(l)"
     ],
     "language": "python",
     "metadata": {},
     "outputs": [
      {
       "output_type": "stream",
       "stream": "stdout",
       "text": [
        "3725.27827828 671.176152785\n"
       ]
      }
     ],
     "prompt_number": 43
    },
    {
     "cell_type": "code",
     "collapsed": false,
     "input": [],
     "language": "python",
     "metadata": {},
     "outputs": [],
     "prompt_number": 40
    },
    {
     "cell_type": "code",
     "collapsed": false,
     "input": [],
     "language": "python",
     "metadata": {},
     "outputs": []
    }
   ],
   "metadata": {}
  }
 ]
}