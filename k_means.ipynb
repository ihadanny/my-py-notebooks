{
 "metadata": {
  "name": "",
  "signature": "sha256:6703688c6f5b7ee9b64354ecef02b617fa79ec30f95523f0be49eecc92ba77a3"
 },
 "nbformat": 3,
 "nbformat_minor": 0,
 "worksheets": [
  {
   "cells": [
    {
     "cell_type": "code",
     "collapsed": false,
     "input": [
      "import numpy as np\n",
      "import operator\n",
      "from sklearn.cluster import KMeans\n",
      "import matplotlib.pyplot as plt\n",
      "from matplotlib.pyplot import imshow\n",
      "import matplotlib.image as mpimg\n",
      "#%matplotlib inline\n",
      "\n",
      "with open('../il-elections-2015/data/votes-19.csv') as f:\n",
      "    raw = []\n",
      "    i = 0\n",
      "    for line in f:\n",
      "        if i > 0 and i < 100:\n",
      "            s = line.split(',')\n",
      "            #print (s[3]), (s[4]), (s[43]) ,(s[44]), (s[45])\n",
      "            if s[3] is not \"\" and s[4] is not \"\":\n",
      "                lat, lng, l, r, c = float(s[3]), float(s[4]), float(s[43]) ,float(s[44]), float(s[45])\n",
      "                my_list = [l, c, r]\n",
      "                i = my_list.index(max(my_list))\n",
      "                raw.append((lat, lng, 0.5*i))\n",
      "        i += 1\n",
      "    X = np.array(raw)\n",
      "    #print [t for t in X if t[0] < 29.5 or t[0] > 33.3 ]\n",
      "    km = KMeans(n_clusters=2)\n",
      "    Y = np.array(km.fit_predict(X))\n",
      "    Y = Y.reshape(len(Y), 1)\n",
      "    print X.shape, Y.shape\n",
      "    X_and_Y = np.hstack((X, Y))\n",
      "    centers = km.cluster_centers_\n",
      "    print centers\n",
      "#    Z = [centers[i, 2] for i in Y]\n",
      "#    print Z\n",
      "    plt.axis('equal')\n",
      "    plt.figure( figsize=(20, 20))\n",
      "    plt.scatter(X[:, 1], X[:, 0], c= Y,alpha=1, cmap='rainbow', marker='x', s=2)\n",
      "    plt.figure()\n",
      "    plt.show()\n",
      "    plt.axis('equal')\n",
      "    plt.scatter(X[:, 1], X[:, 0], c= X[:, 2], cmap='rainbow',alpha=1, marker='x', s=2)\n",
      "    plt.figure( figsize=(6, 6))\n",
      "    plt.show()\n",
      "    "
     ],
     "language": "python",
     "metadata": {},
     "outputs": []
    },
    {
     "cell_type": "code",
     "collapsed": false,
     "input": [],
     "language": "python",
     "metadata": {},
     "outputs": []
    }
   ],
   "metadata": {}
  }
 ]
}